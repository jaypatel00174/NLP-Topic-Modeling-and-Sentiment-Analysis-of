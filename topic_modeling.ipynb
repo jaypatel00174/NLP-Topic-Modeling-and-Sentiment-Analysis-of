{
 "cells": [
  {
   "cell_type": "code",
   "execution_count": 34,
   "metadata": {},
   "outputs": [],
   "source": [
    "import pandas as pd\n",
    "import numpy as np\n",
    "import matplotlib.pyplot as plt\n",
    "import pickle\n",
    "\n",
    "from collections import Counter\n",
    "\n",
    "from os import path\n",
    "from PIL import Image\n",
    "from wordcloud import WordCloud, STOPWORDS, ImageColorGenerator\n",
    "import random\n",
    "\n",
    "from sklearn.feature_extraction.text import CountVectorizer \n",
    "from sklearn.feature_extraction.text import TfidfVectorizer\n",
    "from sklearn.decomposition import NMF\n",
    "from sklearn.metrics.pairwise import cosine_similarity\n",
    "from sklearn.feature_extraction import text\n",
    "\n",
    "import gensim\n",
    "import nltk\n",
    "from nltk.stem.wordnet import WordNetLemmatizer\n",
    "from nltk.corpus import stopwords\n",
    "from nltk.corpus import wordnet as wn"
   ]
  },
  {
   "cell_type": "code",
   "execution_count": 95,
   "metadata": {},
   "outputs": [
    {
     "name": "stdout",
     "output_type": "stream",
     "text": [
      "[nltk_data] Downloading package wordnet to /Users/kari/nltk_data...\n",
      "[nltk_data]   Package wordnet is already up-to-date!\n"
     ]
    },
    {
     "data": {
      "text/plain": [
       "True"
      ]
     },
     "execution_count": 95,
     "metadata": {},
     "output_type": "execute_result"
    }
   ],
   "source": [
    "nltk.download('wordnet')"
   ]
  },
  {
   "cell_type": "markdown",
   "metadata": {},
   "source": [
    "### Cleaning Data"
   ]
  },
  {
   "cell_type": "code",
   "execution_count": 2,
   "metadata": {},
   "outputs": [],
   "source": [
    "convosdf = pd.read_csv(\"convo_texts.csv\")"
   ]
  },
  {
   "cell_type": "code",
   "execution_count": 3,
   "metadata": {},
   "outputs": [],
   "source": [
    "regex =\"\\B@\\w+\"\n",
    "convosdf.text = convosdf.text.str.replace(regex, '')"
   ]
  },
  {
   "cell_type": "code",
   "execution_count": 4,
   "metadata": {},
   "outputs": [],
   "source": [
    "regex =\"http\\S+\"\n",
    "convosdf.text = convosdf.text.str.replace(regex, '')"
   ]
  },
  {
   "cell_type": "code",
   "execution_count": 5,
   "metadata": {},
   "outputs": [
    {
     "data": {
      "text/html": [
       "<div>\n",
       "<style scoped>\n",
       "    .dataframe tbody tr th:only-of-type {\n",
       "        vertical-align: middle;\n",
       "    }\n",
       "\n",
       "    .dataframe tbody tr th {\n",
       "        vertical-align: top;\n",
       "    }\n",
       "\n",
       "    .dataframe thead th {\n",
       "        text-align: right;\n",
       "    }\n",
       "</style>\n",
       "<table border=\"1\" class=\"dataframe\">\n",
       "  <thead>\n",
       "    <tr style=\"text-align: right;\">\n",
       "      <th></th>\n",
       "      <th>tweet_ids</th>\n",
       "      <th>text</th>\n",
       "    </tr>\n",
       "  </thead>\n",
       "  <tbody>\n",
       "    <tr>\n",
       "      <th>0</th>\n",
       "      <td>1 2 3 4 5 6 7 8 9 10</td>\n",
       "      <td>I understand. I would like to assist you. We...</td>\n",
       "    </tr>\n",
       "    <tr>\n",
       "      <th>1</th>\n",
       "      <td>11 12 13 14 15 16 17 18</td>\n",
       "      <td>This is saddening to hear. Please shoot us a...</td>\n",
       "    </tr>\n",
       "    <tr>\n",
       "      <th>2</th>\n",
       "      <td>19 20</td>\n",
       "      <td>Please send me a private message so that I c...</td>\n",
       "    </tr>\n",
       "    <tr>\n",
       "      <th>3</th>\n",
       "      <td>21 22 23 24 25 28 26 29 27</td>\n",
       "      <td>What information is incorrect? ^JK  Would yo...</td>\n",
       "    </tr>\n",
       "    <tr>\n",
       "      <th>4</th>\n",
       "      <td>30 31</td>\n",
       "      <td>Hello, My apologies for any frustrations or ...</td>\n",
       "    </tr>\n",
       "  </tbody>\n",
       "</table>\n",
       "</div>"
      ],
      "text/plain": [
       "                     tweet_ids  \\\n",
       "0         1 2 3 4 5 6 7 8 9 10   \n",
       "1      11 12 13 14 15 16 17 18   \n",
       "2                        19 20   \n",
       "3   21 22 23 24 25 28 26 29 27   \n",
       "4                        30 31   \n",
       "\n",
       "                                                text  \n",
       "0    I understand. I would like to assist you. We...  \n",
       "1    This is saddening to hear. Please shoot us a...  \n",
       "2    Please send me a private message so that I c...  \n",
       "3    What information is incorrect? ^JK  Would yo...  \n",
       "4    Hello, My apologies for any frustrations or ...  "
      ]
     },
     "execution_count": 5,
     "metadata": {},
     "output_type": "execute_result"
    }
   ],
   "source": [
    "convosdf.head()"
   ]
  },
  {
   "cell_type": "code",
   "execution_count": 7,
   "metadata": {},
   "outputs": [],
   "source": [
    "# removing everything except alphabets`\n",
    "convosdf['clean_text'] = convosdf['text'].str.replace(\"[^a-zA-Z#]\", \" \")\n",
    "\n",
    "# removing short words\n",
    "convosdf['clean_text'] = convosdf['clean_text'].apply(lambda x: ' '.join([w for w in x.split() if len(w)>3]))\n",
    "\n",
    "# make all text lowercase\n",
    "convosdf['clean_text'] = convosdf['clean_text'].apply(lambda x: x.lower())"
   ]
  },
  {
   "cell_type": "code",
   "execution_count": 8,
   "metadata": {},
   "outputs": [],
   "source": [
    "convos = convosdf.clean_text.tolist()"
   ]
  },
  {
   "cell_type": "code",
   "execution_count": 9,
   "metadata": {},
   "outputs": [],
   "source": [
    "def sent_to_words(sentences):\n",
    "    for sentence in sentences:\n",
    "        yield(gensim.utils.simple_preprocess(str(sentence), deacc=True))\n",
    "        \n",
    "split_convos = list(sent_to_words(convos))"
   ]
  },
  {
   "cell_type": "code",
   "execution_count": 10,
   "metadata": {},
   "outputs": [],
   "source": [
    "all_words = [word for convo in split_convos for word in convo]\n",
    "\n",
    "for word in all_words:\n",
    "    word = word.lower()"
   ]
  },
  {
   "cell_type": "code",
   "execution_count": 13,
   "metadata": {},
   "outputs": [],
   "source": [
    "def get_lemma(word):\n",
    "    lemma = wn.morphy(word)\n",
    "    if lemma is None:\n",
    "        return word\n",
    "    else:\n",
    "        return lemma"
   ]
  },
  {
   "cell_type": "code",
   "execution_count": 14,
   "metadata": {},
   "outputs": [],
   "source": [
    "domain_stopwords = ['thank', 'dm', 'issue', 'app', 'order', 'phone', 'number', 'account', 'service', 'time',\n",
    "                    'link', 'apology', 'direct_message', 'thanks', 'help', 'email', 'sorry', 'team', 'issues',\n",
    "                    'just', 'like', 'hello', 'assist', 'want', 'know', 'idea', 'details', 'check', 'look', \n",
    "                    'make', 'need', 'soon', 'check', 'send', 'private', 'message', 'kindly', 'rgds', 'still', \n",
    "                    'customer', 'regard', 'please', 'would']\n",
    "\n",
    "english_stopwords = stopwords.words('english')\n",
    "\n",
    "clean_convos = []\n",
    "\n",
    "for convo in split_convos:\n",
    "    no_stop = [word for word in convo if word not in english_stopwords]\n",
    "    \n",
    "    no_domain = [word for word in no_stop if word not in domain_stopwords]\n",
    "\n",
    "    clean_words = [get_lemma(word) for word in no_domain]\n",
    "    \n",
    "    clean_convos.append(clean_words)"
   ]
  },
  {
   "cell_type": "markdown",
   "metadata": {},
   "source": [
    "### CountVectorizer"
   ]
  },
  {
   "cell_type": "code",
   "execution_count": 16,
   "metadata": {},
   "outputs": [
    {
     "data": {
      "text/plain": [
       "(798197, 725)"
      ]
     },
     "execution_count": 16,
     "metadata": {},
     "output_type": "execute_result"
    }
   ],
   "source": [
    "vectorizer = CountVectorizer(min_df=0.005, max_df=0.995, tokenizer=lambda doc: doc, lowercase=False)\n",
    "\n",
    "doc_word = vectorizer.fit_transform(clean_convos)\n",
    "doc_word.toarray().shape"
   ]
  },
  {
   "cell_type": "code",
   "execution_count": 17,
   "metadata": {},
   "outputs": [
    {
     "data": {
      "text/plain": [
       "725"
      ]
     },
     "execution_count": 17,
     "metadata": {},
     "output_type": "execute_result"
    }
   ],
   "source": [
    "len(vectorizer.get_feature_names())"
   ]
  },
  {
   "cell_type": "markdown",
   "metadata": {},
   "source": [
    "### NMF"
   ]
  },
  {
   "cell_type": "code",
   "execution_count": 27,
   "metadata": {},
   "outputs": [],
   "source": [
    "nmf_model = NMF(5)\n",
    "doc_topic = nmf_model.fit_transform(doc_word)"
   ]
  },
  {
   "cell_type": "code",
   "execution_count": 28,
   "metadata": {},
   "outputs": [
    {
     "data": {
      "text/html": [
       "<div>\n",
       "<style scoped>\n",
       "    .dataframe tbody tr th:only-of-type {\n",
       "        vertical-align: middle;\n",
       "    }\n",
       "\n",
       "    .dataframe tbody tr th {\n",
       "        vertical-align: top;\n",
       "    }\n",
       "\n",
       "    .dataframe thead th {\n",
       "        text-align: right;\n",
       "    }\n",
       "</style>\n",
       "<table border=\"1\" class=\"dataframe\">\n",
       "  <thead>\n",
       "    <tr style=\"text-align: right;\">\n",
       "      <th></th>\n",
       "      <th>able</th>\n",
       "      <th>absolutely</th>\n",
       "      <th>accept</th>\n",
       "      <th>access</th>\n",
       "      <th>account</th>\n",
       "      <th>acct</th>\n",
       "      <th>action</th>\n",
       "      <th>actually</th>\n",
       "      <th>add</th>\n",
       "      <th>additional</th>\n",
       "      <th>...</th>\n",
       "      <th>worse</th>\n",
       "      <th>worst</th>\n",
       "      <th>worth</th>\n",
       "      <th>write</th>\n",
       "      <th>wrong</th>\n",
       "      <th>xbox</th>\n",
       "      <th>yeah</th>\n",
       "      <th>year</th>\n",
       "      <th>years</th>\n",
       "      <th>yesterday</th>\n",
       "    </tr>\n",
       "  </thead>\n",
       "  <tbody>\n",
       "    <tr>\n",
       "      <th>component_1</th>\n",
       "      <td>2.305</td>\n",
       "      <td>0.630</td>\n",
       "      <td>0.332</td>\n",
       "      <td>0.798</td>\n",
       "      <td>0.414</td>\n",
       "      <td>0.583</td>\n",
       "      <td>0.176</td>\n",
       "      <td>0.927</td>\n",
       "      <td>0.727</td>\n",
       "      <td>0.729</td>\n",
       "      <td>...</td>\n",
       "      <td>0.349</td>\n",
       "      <td>0.722</td>\n",
       "      <td>0.302</td>\n",
       "      <td>0.180</td>\n",
       "      <td>0.712</td>\n",
       "      <td>0.000</td>\n",
       "      <td>0.633</td>\n",
       "      <td>1.386</td>\n",
       "      <td>1.969</td>\n",
       "      <td>0.386</td>\n",
       "    </tr>\n",
       "    <tr>\n",
       "      <th>component_2</th>\n",
       "      <td>0.000</td>\n",
       "      <td>0.000</td>\n",
       "      <td>0.008</td>\n",
       "      <td>0.000</td>\n",
       "      <td>0.000</td>\n",
       "      <td>0.009</td>\n",
       "      <td>0.051</td>\n",
       "      <td>0.000</td>\n",
       "      <td>0.009</td>\n",
       "      <td>0.000</td>\n",
       "      <td>...</td>\n",
       "      <td>0.000</td>\n",
       "      <td>0.027</td>\n",
       "      <td>0.000</td>\n",
       "      <td>0.053</td>\n",
       "      <td>0.012</td>\n",
       "      <td>0.000</td>\n",
       "      <td>0.000</td>\n",
       "      <td>0.008</td>\n",
       "      <td>0.000</td>\n",
       "      <td>0.000</td>\n",
       "    </tr>\n",
       "    <tr>\n",
       "      <th>component_3</th>\n",
       "      <td>1.766</td>\n",
       "      <td>0.029</td>\n",
       "      <td>0.079</td>\n",
       "      <td>0.330</td>\n",
       "      <td>0.019</td>\n",
       "      <td>0.000</td>\n",
       "      <td>0.126</td>\n",
       "      <td>0.330</td>\n",
       "      <td>0.065</td>\n",
       "      <td>0.000</td>\n",
       "      <td>...</td>\n",
       "      <td>0.114</td>\n",
       "      <td>0.328</td>\n",
       "      <td>0.054</td>\n",
       "      <td>0.000</td>\n",
       "      <td>0.121</td>\n",
       "      <td>3.498</td>\n",
       "      <td>0.671</td>\n",
       "      <td>0.052</td>\n",
       "      <td>0.000</td>\n",
       "      <td>0.372</td>\n",
       "    </tr>\n",
       "    <tr>\n",
       "      <th>component_4</th>\n",
       "      <td>0.866</td>\n",
       "      <td>0.095</td>\n",
       "      <td>0.197</td>\n",
       "      <td>0.000</td>\n",
       "      <td>0.000</td>\n",
       "      <td>0.000</td>\n",
       "      <td>0.016</td>\n",
       "      <td>0.237</td>\n",
       "      <td>0.131</td>\n",
       "      <td>0.091</td>\n",
       "      <td>...</td>\n",
       "      <td>0.057</td>\n",
       "      <td>0.077</td>\n",
       "      <td>0.060</td>\n",
       "      <td>0.134</td>\n",
       "      <td>0.285</td>\n",
       "      <td>0.000</td>\n",
       "      <td>0.094</td>\n",
       "      <td>0.447</td>\n",
       "      <td>0.067</td>\n",
       "      <td>0.247</td>\n",
       "    </tr>\n",
       "    <tr>\n",
       "      <th>component_5</th>\n",
       "      <td>1.538</td>\n",
       "      <td>0.067</td>\n",
       "      <td>0.255</td>\n",
       "      <td>0.983</td>\n",
       "      <td>0.085</td>\n",
       "      <td>0.024</td>\n",
       "      <td>0.502</td>\n",
       "      <td>0.198</td>\n",
       "      <td>0.050</td>\n",
       "      <td>0.181</td>\n",
       "      <td>...</td>\n",
       "      <td>0.016</td>\n",
       "      <td>0.410</td>\n",
       "      <td>0.052</td>\n",
       "      <td>0.534</td>\n",
       "      <td>0.735</td>\n",
       "      <td>0.000</td>\n",
       "      <td>0.003</td>\n",
       "      <td>0.000</td>\n",
       "      <td>0.000</td>\n",
       "      <td>0.779</td>\n",
       "    </tr>\n",
       "  </tbody>\n",
       "</table>\n",
       "<p>5 rows × 725 columns</p>\n",
       "</div>"
      ],
      "text/plain": [
       "              able  absolutely  accept  access  account   acct  action  \\\n",
       "component_1  2.305       0.630   0.332   0.798    0.414  0.583   0.176   \n",
       "component_2  0.000       0.000   0.008   0.000    0.000  0.009   0.051   \n",
       "component_3  1.766       0.029   0.079   0.330    0.019  0.000   0.126   \n",
       "component_4  0.866       0.095   0.197   0.000    0.000  0.000   0.016   \n",
       "component_5  1.538       0.067   0.255   0.983    0.085  0.024   0.502   \n",
       "\n",
       "             actually    add  additional  ...  worse  worst  worth  write  \\\n",
       "component_1     0.927  0.727       0.729  ...  0.349  0.722  0.302  0.180   \n",
       "component_2     0.000  0.009       0.000  ...  0.000  0.027  0.000  0.053   \n",
       "component_3     0.330  0.065       0.000  ...  0.114  0.328  0.054  0.000   \n",
       "component_4     0.237  0.131       0.091  ...  0.057  0.077  0.060  0.134   \n",
       "component_5     0.198  0.050       0.181  ...  0.016  0.410  0.052  0.534   \n",
       "\n",
       "             wrong   xbox   yeah   year  years  yesterday  \n",
       "component_1  0.712  0.000  0.633  1.386  1.969      0.386  \n",
       "component_2  0.012  0.000  0.000  0.008  0.000      0.000  \n",
       "component_3  0.121  3.498  0.671  0.052  0.000      0.372  \n",
       "component_4  0.285  0.000  0.094  0.447  0.067      0.247  \n",
       "component_5  0.735  0.000  0.003  0.000  0.000      0.779  \n",
       "\n",
       "[5 rows x 725 columns]"
      ]
     },
     "execution_count": 28,
     "metadata": {},
     "output_type": "execute_result"
    }
   ],
   "source": [
    "topic_word = pd.DataFrame(nmf_model.components_.round(3), index = [\"component_1\",\"component_2\", \"component_3\",\n",
    "                                                                   \"component_4\",\"component_5\"], \n",
    "                          columns = vectorizer.get_feature_names())\n",
    "topic_word"
   ]
  },
  {
   "cell_type": "code",
   "execution_count": 29,
   "metadata": {
    "scrolled": true
   },
   "outputs": [
    {
     "name": "stdout",
     "output_type": "stream",
     "text": [
      "\n",
      "Topic  0\n",
      "take, address, back, store, love, iphone, call, happy, mobile, try\n",
      "\n",
      "Topic  1\n",
      "request, response, kind, regard, reply, concern, booking, call, resolve, care\n",
      "\n",
      "Topic  2\n",
      "game, error, update, server, play, code, getting, problem, xbox, working\n",
      "\n",
      "Topic  3\n",
      "flight, delay, booking, train, ticket, change, book, cancel, refund, wait\n",
      "\n",
      "Topic  4\n",
      "delivery, amazon, receive, provide, contact, deliver, call, refund, back, update\n"
     ]
    }
   ],
   "source": [
    "display_topics(nmf_model, vectorizer.get_feature_names(), 10)"
   ]
  },
  {
   "cell_type": "code",
   "execution_count": 30,
   "metadata": {},
   "outputs": [],
   "source": [
    "topic_vectors_df = pd.DataFrame(doc_topic.round(5), index = convos,\n",
    "             columns = [\"component_1\",\"component_2\", \"component_3\", \"component_4\", \"component_5\"])"
   ]
  },
  {
   "cell_type": "code",
   "execution_count": 31,
   "metadata": {},
   "outputs": [],
   "source": [
    "ids = convosdf.tweet_ids.tolist()\n",
    "topic_vectors_df['tweet_ids'] = ids"
   ]
  },
  {
   "cell_type": "code",
   "execution_count": 32,
   "metadata": {},
   "outputs": [
    {
     "data": {
      "text/html": [
       "<div>\n",
       "<style scoped>\n",
       "    .dataframe tbody tr th:only-of-type {\n",
       "        vertical-align: middle;\n",
       "    }\n",
       "\n",
       "    .dataframe tbody tr th {\n",
       "        vertical-align: top;\n",
       "    }\n",
       "\n",
       "    .dataframe thead th {\n",
       "        text-align: right;\n",
       "    }\n",
       "</style>\n",
       "<table border=\"1\" class=\"dataframe\">\n",
       "  <thead>\n",
       "    <tr style=\"text-align: right;\">\n",
       "      <th></th>\n",
       "      <th>component_1</th>\n",
       "      <th>component_2</th>\n",
       "      <th>component_3</th>\n",
       "      <th>component_4</th>\n",
       "      <th>component_5</th>\n",
       "      <th>tweet_ids</th>\n",
       "    </tr>\n",
       "  </thead>\n",
       "  <tbody>\n",
       "    <tr>\n",
       "      <th>understand would like assist would need into private secured link further assist propose that have sent several private messages responding usual please send private message that further assist just click message your profile please send private message that gain further details about your account only response tweet apparently worst customer service would love chance review account provide assistance hello never like customers feel like they valued</th>\n",
       "      <td>0.01947</td>\n",
       "      <td>0.02068</td>\n",
       "      <td>0.00000</td>\n",
       "      <td>0.00000</td>\n",
       "      <td>0.01811</td>\n",
       "      <td>1 2 3 4 5 6 7 8 9 10</td>\n",
       "    </tr>\n",
       "    <tr>\n",
       "      <th>this saddening hear please shoot that look into this gonna magically change your connectivity whole family would really like work with have this resolved kindly send here resolutionsup name shantel resolution supervisor here with sprint your issues brought attention resolutionsup understand your concerns like please send direct message that further assist since signed with since there definitely like work with this long have been experiencing this issue about your great connection bars still load something</th>\n",
       "      <td>0.03878</td>\n",
       "      <td>0.00000</td>\n",
       "      <td>0.01416</td>\n",
       "      <td>0.00651</td>\n",
       "      <td>0.00000</td>\n",
       "      <td>11 12 13 14 15 16 17 18</td>\n",
       "    </tr>\n",
       "    <tr>\n",
       "      <th>please send private message that send link access your account whenever contact customer support they tell have shortcode enabled account have never years tried</th>\n",
       "      <td>0.01036</td>\n",
       "      <td>0.00000</td>\n",
       "      <td>0.00000</td>\n",
       "      <td>0.00000</td>\n",
       "      <td>0.01648</td>\n",
       "      <td>19 20</td>\n",
       "    </tr>\n",
       "  </tbody>\n",
       "</table>\n",
       "</div>"
      ],
      "text/plain": [
       "                                                    component_1  component_2  \\\n",
       "understand would like assist would need into pr...      0.01947      0.02068   \n",
       "this saddening hear please shoot that look into...      0.03878      0.00000   \n",
       "please send private message that send link acce...      0.01036      0.00000   \n",
       "\n",
       "                                                    component_3  component_4  \\\n",
       "understand would like assist would need into pr...      0.00000      0.00000   \n",
       "this saddening hear please shoot that look into...      0.01416      0.00651   \n",
       "please send private message that send link acce...      0.00000      0.00000   \n",
       "\n",
       "                                                    component_5  \\\n",
       "understand would like assist would need into pr...      0.01811   \n",
       "this saddening hear please shoot that look into...      0.00000   \n",
       "please send private message that send link acce...      0.01648   \n",
       "\n",
       "                                                                   tweet_ids  \n",
       "understand would like assist would need into pr...      1 2 3 4 5 6 7 8 9 10  \n",
       "this saddening hear please shoot that look into...   11 12 13 14 15 16 17 18  \n",
       "please send private message that send link acce...                     19 20  "
      ]
     },
     "execution_count": 32,
     "metadata": {},
     "output_type": "execute_result"
    }
   ],
   "source": [
    "topic_vectors_df.head(3)"
   ]
  },
  {
   "cell_type": "code",
   "execution_count": 33,
   "metadata": {},
   "outputs": [],
   "source": [
    "topic_vectors_df.to_pickle(\"./topic_vectors.pkl\")"
   ]
  },
  {
   "cell_type": "markdown",
   "metadata": {},
   "source": [
    "### TF-IDF"
   ]
  },
  {
   "cell_type": "code",
   "execution_count": 35,
   "metadata": {},
   "outputs": [
    {
     "data": {
      "text/plain": [
       "(798197, 725)"
      ]
     },
     "execution_count": 35,
     "metadata": {},
     "output_type": "execute_result"
    }
   ],
   "source": [
    "tfidf = TfidfVectorizer(min_df=0.005, max_df=0.995, tokenizer=lambda doc: doc, lowercase=False)\n",
    "doc_word_tf = tfidf.fit_transform(clean_convos)\n",
    "doc_word_tf.shape"
   ]
  },
  {
   "cell_type": "code",
   "execution_count": 36,
   "metadata": {},
   "outputs": [],
   "source": [
    "nmf_model_tf = NMF(5)\n",
    "doc_topic_tf = nmf_model_tf.fit_transform(doc_word_tf)"
   ]
  },
  {
   "cell_type": "code",
   "execution_count": 37,
   "metadata": {},
   "outputs": [
    {
     "data": {
      "text/html": [
       "<div>\n",
       "<style scoped>\n",
       "    .dataframe tbody tr th:only-of-type {\n",
       "        vertical-align: middle;\n",
       "    }\n",
       "\n",
       "    .dataframe tbody tr th {\n",
       "        vertical-align: top;\n",
       "    }\n",
       "\n",
       "    .dataframe thead th {\n",
       "        text-align: right;\n",
       "    }\n",
       "</style>\n",
       "<table border=\"1\" class=\"dataframe\">\n",
       "  <thead>\n",
       "    <tr style=\"text-align: right;\">\n",
       "      <th></th>\n",
       "      <th>able</th>\n",
       "      <th>absolutely</th>\n",
       "      <th>accept</th>\n",
       "      <th>access</th>\n",
       "      <th>account</th>\n",
       "      <th>acct</th>\n",
       "      <th>action</th>\n",
       "      <th>actually</th>\n",
       "      <th>add</th>\n",
       "      <th>additional</th>\n",
       "      <th>...</th>\n",
       "      <th>worse</th>\n",
       "      <th>worst</th>\n",
       "      <th>worth</th>\n",
       "      <th>write</th>\n",
       "      <th>wrong</th>\n",
       "      <th>xbox</th>\n",
       "      <th>yeah</th>\n",
       "      <th>year</th>\n",
       "      <th>years</th>\n",
       "      <th>yesterday</th>\n",
       "    </tr>\n",
       "  </thead>\n",
       "  <tbody>\n",
       "    <tr>\n",
       "      <th>component_1</th>\n",
       "      <td>1.113</td>\n",
       "      <td>0.187</td>\n",
       "      <td>0.208</td>\n",
       "      <td>0.486</td>\n",
       "      <td>0.141</td>\n",
       "      <td>0.107</td>\n",
       "      <td>0.176</td>\n",
       "      <td>0.293</td>\n",
       "      <td>0.238</td>\n",
       "      <td>0.271</td>\n",
       "      <td>...</td>\n",
       "      <td>0.104</td>\n",
       "      <td>0.408</td>\n",
       "      <td>0.117</td>\n",
       "      <td>0.204</td>\n",
       "      <td>0.557</td>\n",
       "      <td>0.351</td>\n",
       "      <td>0.163</td>\n",
       "      <td>0.340</td>\n",
       "      <td>0.260</td>\n",
       "      <td>0.422</td>\n",
       "    </tr>\n",
       "    <tr>\n",
       "      <th>component_2</th>\n",
       "      <td>0.000</td>\n",
       "      <td>0.000</td>\n",
       "      <td>0.000</td>\n",
       "      <td>0.041</td>\n",
       "      <td>0.002</td>\n",
       "      <td>0.000</td>\n",
       "      <td>0.013</td>\n",
       "      <td>0.000</td>\n",
       "      <td>0.000</td>\n",
       "      <td>0.000</td>\n",
       "      <td>...</td>\n",
       "      <td>0.000</td>\n",
       "      <td>0.000</td>\n",
       "      <td>0.002</td>\n",
       "      <td>0.005</td>\n",
       "      <td>0.019</td>\n",
       "      <td>0.000</td>\n",
       "      <td>0.000</td>\n",
       "      <td>0.000</td>\n",
       "      <td>0.000</td>\n",
       "      <td>0.011</td>\n",
       "    </tr>\n",
       "    <tr>\n",
       "      <th>component_3</th>\n",
       "      <td>0.148</td>\n",
       "      <td>0.020</td>\n",
       "      <td>0.000</td>\n",
       "      <td>0.055</td>\n",
       "      <td>0.008</td>\n",
       "      <td>0.000</td>\n",
       "      <td>0.005</td>\n",
       "      <td>0.052</td>\n",
       "      <td>0.039</td>\n",
       "      <td>0.030</td>\n",
       "      <td>...</td>\n",
       "      <td>0.060</td>\n",
       "      <td>0.029</td>\n",
       "      <td>0.007</td>\n",
       "      <td>0.017</td>\n",
       "      <td>0.022</td>\n",
       "      <td>0.171</td>\n",
       "      <td>0.054</td>\n",
       "      <td>0.043</td>\n",
       "      <td>0.050</td>\n",
       "      <td>0.033</td>\n",
       "    </tr>\n",
       "    <tr>\n",
       "      <th>component_4</th>\n",
       "      <td>0.214</td>\n",
       "      <td>0.064</td>\n",
       "      <td>0.073</td>\n",
       "      <td>0.000</td>\n",
       "      <td>0.000</td>\n",
       "      <td>0.000</td>\n",
       "      <td>0.000</td>\n",
       "      <td>0.059</td>\n",
       "      <td>0.041</td>\n",
       "      <td>0.011</td>\n",
       "      <td>...</td>\n",
       "      <td>0.025</td>\n",
       "      <td>0.052</td>\n",
       "      <td>0.037</td>\n",
       "      <td>0.000</td>\n",
       "      <td>0.000</td>\n",
       "      <td>0.000</td>\n",
       "      <td>0.039</td>\n",
       "      <td>0.131</td>\n",
       "      <td>0.051</td>\n",
       "      <td>0.079</td>\n",
       "    </tr>\n",
       "    <tr>\n",
       "      <th>component_5</th>\n",
       "      <td>0.098</td>\n",
       "      <td>0.046</td>\n",
       "      <td>0.023</td>\n",
       "      <td>0.073</td>\n",
       "      <td>0.066</td>\n",
       "      <td>0.358</td>\n",
       "      <td>0.009</td>\n",
       "      <td>0.036</td>\n",
       "      <td>0.009</td>\n",
       "      <td>0.094</td>\n",
       "      <td>...</td>\n",
       "      <td>0.036</td>\n",
       "      <td>0.130</td>\n",
       "      <td>0.013</td>\n",
       "      <td>0.002</td>\n",
       "      <td>0.114</td>\n",
       "      <td>0.000</td>\n",
       "      <td>0.012</td>\n",
       "      <td>0.018</td>\n",
       "      <td>0.040</td>\n",
       "      <td>0.035</td>\n",
       "    </tr>\n",
       "  </tbody>\n",
       "</table>\n",
       "<p>5 rows × 725 columns</p>\n",
       "</div>"
      ],
      "text/plain": [
       "              able  absolutely  accept  access  account   acct  action  \\\n",
       "component_1  1.113       0.187   0.208   0.486    0.141  0.107   0.176   \n",
       "component_2  0.000       0.000   0.000   0.041    0.002  0.000   0.013   \n",
       "component_3  0.148       0.020   0.000   0.055    0.008  0.000   0.005   \n",
       "component_4  0.214       0.064   0.073   0.000    0.000  0.000   0.000   \n",
       "component_5  0.098       0.046   0.023   0.073    0.066  0.358   0.009   \n",
       "\n",
       "             actually    add  additional  ...  worse  worst  worth  write  \\\n",
       "component_1     0.293  0.238       0.271  ...  0.104  0.408  0.117  0.204   \n",
       "component_2     0.000  0.000       0.000  ...  0.000  0.000  0.002  0.005   \n",
       "component_3     0.052  0.039       0.030  ...  0.060  0.029  0.007  0.017   \n",
       "component_4     0.059  0.041       0.011  ...  0.025  0.052  0.037  0.000   \n",
       "component_5     0.036  0.009       0.094  ...  0.036  0.130  0.013  0.002   \n",
       "\n",
       "             wrong   xbox   yeah   year  years  yesterday  \n",
       "component_1  0.557  0.351  0.163  0.340  0.260      0.422  \n",
       "component_2  0.019  0.000  0.000  0.000  0.000      0.011  \n",
       "component_3  0.022  0.171  0.054  0.043  0.050      0.033  \n",
       "component_4  0.000  0.000  0.039  0.131  0.051      0.079  \n",
       "component_5  0.114  0.000  0.012  0.018  0.040      0.035  \n",
       "\n",
       "[5 rows x 725 columns]"
      ]
     },
     "execution_count": 37,
     "metadata": {},
     "output_type": "execute_result"
    }
   ],
   "source": [
    "topic_word = pd.DataFrame(nmf_model_tf.components_.round(3), index = [\"component_1\",\"component_2\", \"component_3\",\n",
    "                                                                   \"component_4\",\"component_5\"], \n",
    "                          columns = tfidf.get_feature_names())\n",
    "topic_word"
   ]
  },
  {
   "cell_type": "code",
   "execution_count": 38,
   "metadata": {},
   "outputs": [
    {
     "name": "stdout",
     "output_type": "stream",
     "text": [
      "\n",
      "Topic  0\n",
      "call, store, contact, back, hear, delivery, receive, provide, support, try\n",
      "\n",
      "Topic  1\n",
      "amazon, prime, hola, para, delivery, deliver, package, mail, order, twitter\n",
      "\n",
      "Topic  2\n",
      "update, iphone, work, software, fix, version, around, future, device, using\n",
      "\n",
      "Topic  3\n",
      "flight, delay, great, train, hope, confirmation, enjoy, crew, today, love\n",
      "\n",
      "Topic  4\n",
      "address, full, name, internet, happy, take, follow, could, outage, apologize\n"
     ]
    }
   ],
   "source": [
    "display_topics(nmf_model_tf, tfidf.get_feature_names(), 10)"
   ]
  },
  {
   "cell_type": "markdown",
   "metadata": {},
   "source": [
    "### Topic Wordclouds"
   ]
  },
  {
   "cell_type": "code",
   "execution_count": 40,
   "metadata": {},
   "outputs": [
    {
     "data": {
      "image/png": "[encoded data removed]",
      "text/plain": [
       "<Figure size 432x288 with 1 Axes>"
      ]
     },
     "metadata": {
      "needs_background": "light"
     },
     "output_type": "display_data"
    }
   ],
   "source": [
    "text = \"delivery amazon receive provide contact deliver call refund back update\"\n",
    "\n",
    "wordcloud = WordCloud(mode='RGBA', background_color=None).generate(text)\n",
    "\n",
    "def blue_color_func(word, font_size, position, orientation, random_state=None,**kwargs):\n",
    "    return \"hsl(206, 82%%, %d%%)\" % random.randint(60, 100)\n",
    "\n",
    "plt.imshow(wordcloud.recolor(color_func=blue_color_func, random_state=3), interpolation='bilinear')\n",
    "plt.axis(\"off\")\n",
    "plt.show()\n",
    "# plt.savefig(\"topic1.svg\");"
   ]
  }
 ],
 "metadata": {
  "kernelspec": {
   "display_name": "Python 3",
   "language": "python",
   "name": "python3"
  },
  "language_info": {
   "codemirror_mode": {
    "name": "ipython",
    "version": 3
   },
   "file_extension": ".py",
   "mimetype": "text/x-python",
   "name": "python",
   "nbconvert_exporter": "python",
   "pygments_lexer": "ipython3",
   "version": "3.8.5"
  }
 },
 "nbformat": 4,
 "nbformat_minor": 4
}
